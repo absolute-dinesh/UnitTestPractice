{
 "cells": [
  {
   "cell_type": "code",
   "execution_count": 1,
   "id": "53f1265c",
   "metadata": {},
   "outputs": [
    {
     "name": "stdout",
     "output_type": "stream",
     "text": [
      "6\n",
      "6\n",
      "1\n"
     ]
    }
   ],
   "source": [
    "i = 5\n",
    "i = i + 1\n",
    "\n",
    "print(i)\n",
    "\n",
    "j = 5\n",
    "j += 1\n",
    "\n",
    "print(j)\n",
    "\n",
    "k = 5\n",
    "k =+ 1\n",
    "\n",
    "print(k)\n"
   ]
  },
  {
   "cell_type": "code",
   "execution_count": 17,
   "id": "5e081bef",
   "metadata": {},
   "outputs": [],
   "source": [
    "x = [-10,1,0.2,0.4]\n",
    "\n",
    "y = sorted(x,key = lambda x : x**2)\n",
    "z = sorted(x, key = lambda x : x**3, reverse=True)"
   ]
  },
  {
   "cell_type": "code",
   "execution_count": 18,
   "id": "6f814f4a",
   "metadata": {},
   "outputs": [
    {
     "data": {
      "text/plain": [
       "[0.2, 0.4, 1, -10]"
      ]
     },
     "execution_count": 18,
     "metadata": {},
     "output_type": "execute_result"
    }
   ],
   "source": [
    "y"
   ]
  },
  {
   "cell_type": "code",
   "execution_count": 19,
   "id": "af4b0d57",
   "metadata": {},
   "outputs": [
    {
     "data": {
      "text/plain": [
       "[1, 0.4, 0.2, -10]"
      ]
     },
     "execution_count": 19,
     "metadata": {},
     "output_type": "execute_result"
    }
   ],
   "source": [
    "z"
   ]
  },
  {
   "cell_type": "code",
   "execution_count": null,
   "id": "af2b93c2",
   "metadata": {},
   "outputs": [],
   "source": []
  }
 ],
 "metadata": {
  "kernelspec": {
   "display_name": "Python 3 (ipykernel)",
   "language": "python",
   "name": "python3"
  },
  "language_info": {
   "codemirror_mode": {
    "name": "ipython",
    "version": 3
   },
   "file_extension": ".py",
   "mimetype": "text/x-python",
   "name": "python",
   "nbconvert_exporter": "python",
   "pygments_lexer": "ipython3",
   "version": "3.11.3"
  }
 },
 "nbformat": 4,
 "nbformat_minor": 5
}
